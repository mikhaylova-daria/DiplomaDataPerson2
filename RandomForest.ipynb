{
 "cells": [
  {
   "cell_type": "code",
   "execution_count": 6,
   "metadata": {
    "collapsed": true
   },
   "outputs": [],
   "source": [
    "from scipy import sparse\n",
    "import csv\n",
    "import sys\n",
    "import os\n",
    "import pandas\n",
    "import numpy as np\n",
    "import multiprocessing\n",
    "import random\n",
    "from sklearn.externals import joblib"
   ]
  },
  {
   "cell_type": "code",
   "execution_count": null,
   "metadata": {
    "collapsed": false
   },
   "outputs": [],
   "source": [
    "X = []\n",
    "Y = []\n",
    "f1=open(unicode('./datasetPersonTab'))\n",
    "f2=open(unicode('./datasetNNPTab'))\n",
    "for i, line in enumerate(f1):\n",
    "    if (i == 0):\n",
    "        continue\n",
    "    X.append(line.strip().split('\\t')[4:])\n",
    "    Y.append('Person')\n",
    "size = len(X)\n",
    "for i, line in enumerate(f2):\n",
    "    if (i == 0):\n",
    "        continue\n",
    "    X.append(line.strip().split('\\t')[4:])\n",
    "    Y.append('No')"
   ]
  },
  {
   "cell_type": "code",
   "execution_count": null,
   "metadata": {
    "collapsed": false
   },
   "outputs": [],
   "source": [
    "X_test = []\n",
    "Y_test = []\n",
    "f1=open(unicode('./datasetPersonTabTest'))\n",
    "f2=open(unicode('./datasetNNPTabTest'))\n",
    "for i, line in enumerate(f1):\n",
    "    if (i == 0):\n",
    "        continue\n",
    "    X_test.append(line.strip().split('\\t')[4:])\n",
    "    Y_test.append('Person')\n",
    "for i, line in enumerate(f2):\n",
    "    if (i == 0):\n",
    "        continue\n",
    "    X_test.append(line.strip().split('\\t')[4:])\n",
    "    Y_test.append('No')"
   ]
  },
  {
   "cell_type": "code",
   "execution_count": null,
   "metadata": {
    "collapsed": false
   },
   "outputs": [],
   "source": [
    "set_futures =[]\n",
    "for i in range(27):\n",
    "    set_futures.append(set())\n",
    "for x in X+X_test:\n",
    "    for i, x_i in enumerate(x):\n",
    "        set_futures[i].add(x_i)"
   ]
  },
  {
   "cell_type": "code",
   "execution_count": null,
   "metadata": {
    "collapsed": false
   },
   "outputs": [],
   "source": [
    "feature_dict = []\n",
    "for i in range(27):\n",
    "    feature_dict.append(dict())\n",
    "    \n",
    "for i in range(27):\n",
    "    count = 0\n",
    "    for x in set_futures[i]:\n",
    "        feature_dict[i][x] = count\n",
    "        count+=1"
   ]
  },
  {
   "cell_type": "code",
   "execution_count": null,
   "metadata": {
    "collapsed": false
   },
   "outputs": [],
   "source": [
    "filename = './DiplomaDataPerson_feature_dict.joblib.pkl'\n",
    "joblib.dump(feature_dict, filename, compress=3)"
   ]
  },
  {
   "cell_type": "code",
   "execution_count": null,
   "metadata": {
    "collapsed": false
   },
   "outputs": [],
   "source": [
    "filename = './DiplomaDataPerson_set_futures.joblib.pkl'\n",
    "joblib.dump(set_futures, filename, compress=3)"
   ]
  },
  {
   "cell_type": "code",
   "execution_count": null,
   "metadata": {
    "collapsed": false
   },
   "outputs": [],
   "source": [
    "X_int=[]\n",
    "for x in X:\n",
    "    X_int.append([0]*len(x)) \n",
    "for i, x in enumerate(X):\n",
    "    for j, x_j in enumerate(x):\n",
    "        X_int[i][j]=feature_dict[j][x_j]"
   ]
  },
  {
   "cell_type": "code",
   "execution_count": null,
   "metadata": {
    "collapsed": false
   },
   "outputs": [],
   "source": [
    "filename = './DiplomaDataPerson_X_int.joblib.pkl'\n",
    "joblib.dump(X_int, filename, compress=3)"
   ]
  },
  {
   "cell_type": "code",
   "execution_count": null,
   "metadata": {
    "collapsed": false
   },
   "outputs": [],
   "source": [
    "X_int_test=[]\n",
    "for x in X_test:\n",
    "    X_int_test.append([0]*len(x)) \n",
    "for i, x in enumerate(X_test):\n",
    "    for j, x_j in enumerate(x):\n",
    "        X_int_test[i][j]=feature_dict[j][x_j]"
   ]
  },
  {
   "cell_type": "code",
   "execution_count": null,
   "metadata": {
    "collapsed": false
   },
   "outputs": [],
   "source": [
    "filename = './DiplomaDataPerson_X_int_test.joblib.pkl'\n",
    "joblib.dump(X_int_test, filename, compress=3)"
   ]
  },
  {
   "cell_type": "code",
   "execution_count": null,
   "metadata": {
    "collapsed": true
   },
   "outputs": [],
   "source": [
    "from sklearn.preprocessing import OneHotEncoder\n",
    "enc = OneHotEncoder()"
   ]
  },
  {
   "cell_type": "code",
   "execution_count": null,
   "metadata": {
    "collapsed": false
   },
   "outputs": [],
   "source": [
    "enc.fit_transform(X_int+X_int_test)\n",
    "filename = './DiplomaDataPerson_enc.joblib.pkl'\n",
    "joblib.dump(enc, filename, compress=3)"
   ]
  },
  {
   "cell_type": "code",
   "execution_count": null,
   "metadata": {
    "collapsed": false
   },
   "outputs": [],
   "source": [
    "random.shuffle(X_int[size:])\n",
    "X_sparse_matrix = enc.transform(X_int[:size]+X_int[size:200000])"
   ]
  },
  {
   "cell_type": "code",
   "execution_count": null,
   "metadata": {
    "collapsed": false
   },
   "outputs": [],
   "source": [
    "import sklearn.ensemble  \n",
    "RF = sklearn.ensemble.RandomForestClassifier(n_estimators=50, n_jobs=3)"
   ]
  },
  {
   "cell_type": "code",
   "execution_count": null,
   "metadata": {
    "collapsed": false
   },
   "outputs": [],
   "source": [
    "X_new = RF.fit_transform(X_sparse_matrix, Y[:size]+Y[size:200000])"
   ]
  },
  {
   "cell_type": "code",
   "execution_count": null,
   "metadata": {
    "collapsed": false
   },
   "outputs": [],
   "source": [
    "filename = './DiplomaDataPerson_RF50_200000.joblib.pkl'\n",
    "joblib.dump(RF, filename, compress=3)"
   ]
  },
  {
   "cell_type": "code",
   "execution_count": null,
   "metadata": {
    "collapsed": false
   },
   "outputs": [],
   "source": [
    "recall_set = dict()\n",
    "presision_set = dict()\n",
    "F_measure_set = dict()"
   ]
  },
  {
   "cell_type": "code",
   "execution_count": 33,
   "metadata": {
    "collapsed": false
   },
   "outputs": [
    {
     "ename": "NameError",
     "evalue": "name 'RF' is not defined",
     "output_type": "error",
     "traceback": [
      "\u001b[1;31m---------------------------------------------------------------------------\u001b[0m",
      "\u001b[1;31mNameError\u001b[0m                                 Traceback (most recent call last)",
      "\u001b[1;32m<ipython-input-33-9b70b4922b96>\u001b[0m in \u001b[0;36m<module>\u001b[1;34m()\u001b[0m\n\u001b[1;32m----> 1\u001b[1;33m \u001b[0mY_test_result\u001b[0m \u001b[1;33m=\u001b[0m\u001b[0mRF\u001b[0m\u001b[1;33m.\u001b[0m\u001b[0mpredict_proba\u001b[0m\u001b[1;33m(\u001b[0m\u001b[0menc\u001b[0m\u001b[1;33m.\u001b[0m\u001b[0mtransform\u001b[0m\u001b[1;33m(\u001b[0m\u001b[0mX_int\u001b[0m\u001b[1;33m)\u001b[0m\u001b[1;33m)\u001b[0m\u001b[1;33m\u001b[0m\u001b[0m\n\u001b[0m",
      "\u001b[1;31mNameError\u001b[0m: name 'RF' is not defined"
     ]
    }
   ],
   "source": [
    "Y_test_result =RF.predict_proba(enc.transform(X_int_test[:46850]))"
   ]
  },
  {
   "cell_type": "markdown",
   "metadata": {
    "collapsed": true
   },
   "source": [
    "DONE!!!"
   ]
  },
  {
   "cell_type": "code",
   "execution_count": null,
   "metadata": {
    "collapsed": false
   },
   "outputs": [],
   "source": [
    "f_n = 0\n",
    "f_p = 0\n",
    "t_n=0\n",
    "t_p=0\n",
    "f = open('f_p', 'w')\n",
    "for i, y in enumerate(Y_test_result):\n",
    "    y_str = 'No'\n",
    "    if y[1]>0.5:\n",
    "        y_str = 'Person'\n",
    "    if y_str != Y_test[i]:\n",
    "        if y_str=='No':\n",
    "            f_n+=1\n",
    "            #print X[10000+i]\n",
    "        else:\n",
    "            f_p+=1\n",
    "            f.write(X_test[i][1])\n",
    "            f.write(',')\n",
    "            f.write(str(y[1]))\n",
    "            f.write('\\n')\n",
    "            \n",
    "    elif y_str =='No':\n",
    "        t_n+=1\n",
    "    else:\n",
    "        t_p+=1\n",
    "recall = t_p*1./(t_p+f_n+1)\n",
    "presision = t_p*1./(t_p+f_p+1)\n",
    "print recall\n",
    "print presision\n",
    "print f_p, f_n, t_p, t_n\n",
    "F_measure = 2*presision*recall/(presision+recall)\n",
    "print F_measure   \n",
    "recall_set[len(Y_test_result)] = recall\n",
    "presision_set[len(Y_test_result)] = presision\n",
    "F_measure_set[len(Y_test_result)] = F_measure"
   ]
  },
  {
   "cell_type": "code",
   "execution_count": null,
   "metadata": {
    "collapsed": false
   },
   "outputs": [],
   "source": [
    "len(X_int_test)"
   ]
  },
  {
   "cell_type": "code",
   "execution_count": 17,
   "metadata": {
    "collapsed": false
   },
   "outputs": [],
   "source": [
    "#!/usr/bin/env python\n",
    "#coding=utf-8\n",
    "import matplotlib as mpl\n",
    "import matplotlib.pyplot as plt\n",
    "\n",
    "# устанавливаем стиль fantasy по умолчанию\n",
    "mpl.rcParams['font.family'] = 'fantasy'\n",
    "\n",
    "# устанавливаем в стиль fantasy шрифт, который отображает кириллицу, например, Arial\n",
    "mpl.rcParams['font.fantasy'] = 'Arial'"
   ]
  },
  {
   "cell_type": "code",
   "execution_count": 19,
   "metadata": {
    "collapsed": false
   },
   "outputs": [],
   "source": [
    "from matplotlib import rc\n",
    " \n",
    "font = {'family': 'Droid Sans',\n",
    "        'weight': 'normal'}\n",
    "rc('font', **font)"
   ]
  },
  {
   "cell_type": "code",
   "execution_count": 32,
   "metadata": {
    "collapsed": false
   },
   "outputs": [
    {
     "data": {
      "image/png": "[encoded data removed]",
      "text/plain": [
       "<matplotlib.figure.Figure at 0x7f2be9c89d50>"
      ]
     },
     "metadata": {},
     "output_type": "display_data"
    }
   ],
   "source": [
    "# -*- coding: utf-8 -*-\n",
    "# Преамбула\n",
    "%matplotlib inline\n",
    "\n",
    "import os\n",
    "import matplotlib.pyplot as plt\n",
    "\n",
    "def save(name=''):\n",
    "    plt.savefig('./pictures/'+ name, fmt='png')\n",
    "    #plt.close()\n",
    "\n",
    "import numpy as np\n",
    "l=['Recall' , 'Presision' , 'F-measure']\n",
    "\n",
    "# Пример функции с объединением в кортеж *args\n",
    "def f_sums(*args):\n",
    "\n",
    "    list1 = []\n",
    "    for arg in args:\n",
    "        a = 0\n",
    "        for i in arg:\n",
    "            a += i\n",
    "        list1.append(a)\n",
    "\n",
    "    return list1\n",
    "\n",
    "\n",
    "# Пример функции с объединением и в кортеж args и в словарь **kwargs\n",
    "def f_plot(*args, **kwargs):\n",
    "\n",
    "    xlist = []\n",
    "    ylist = []\n",
    "    for i, arg in enumerate(args):\n",
    "        if(i % 2 == 0):\n",
    "            xlist.append(arg)\n",
    "        else:\n",
    "            ylist.append(arg) \n",
    "    \n",
    "    colors = kwargs.pop('colors', 'k')\n",
    "    linewidth = kwargs.pop('linewidth', 1.)\n",
    "    \n",
    "    fig = plt.figure()\n",
    "    ax = fig.add_subplot(111)\n",
    "    i = 0\n",
    "    for x, y, color in zip(xlist, ylist, colors):\n",
    "        i += 1\n",
    "        ax.plot(x, y, color=color, linewidth=linewidth, label=l[i-1])\n",
    "    \n",
    "    ax.grid(True)\n",
    "    #ax.legend()\n",
    "    plt.legend(loc=3,prop={'size':12})\n",
    "    plt.title(u'Зависимость метрик качества\\n от доли negative-примеров в тестовой выборке\\n')\n",
    "    plt.xlabel(u'Доля negative-примеров\\n (RandomForest, n_estimators=50, len(X_train)=200000)')\n",
    "    save(u'Зависимость метрик качества от доли negative-примеров в тестовой выборке')\n",
    "    \n",
    "\n",
    "x = []\n",
    "y1 =[]\n",
    "y2 =[]\n",
    "y3 =[]\n",
    "\n",
    "# keys = F_measure_set.keys()\n",
    "# keys.sort()\n",
    "# for x_ in keys:\n",
    "#     if x_>46850:\n",
    "#         x.append((x_ - 46850)*1./x_)\n",
    "#         y1.append(recall_set[x_])\n",
    "#         y2.append(presision_set[x_])\n",
    "#         y3.append(F_measure_set[x_])\n",
    "filename = './DiplomaDataPerson_GrX.pkl'\n",
    "x = joblib.load(filename)\n",
    "filename = './DiplomaDataPerson_GrRec.pkl'\n",
    "y1 = joblib.load(filename)\n",
    "filename = './DiplomaDataPerson_GrPre.pkl'\n",
    "y2 = joblib.load(filename)\n",
    "filename = './DiplomaDataPerson_GrF.pkl'\n",
    "y3 = joblib.load(filename)\n",
    "    \n",
    "f_plot(x , y1, x, y2, x , y3, colors=['blue', 'red', 'green'], linewidth=2.)"
   ]
  },
  {
   "cell_type": "code",
   "execution_count": null,
   "metadata": {
    "collapsed": true
   },
   "outputs": [],
   "source": [
    "scores = cross_validation.cross_val_score(RF, X_sparse_matrix, Y[:300000], cv = 9,n_jobs=-1)"
   ]
  },
  {
   "cell_type": "markdown",
   "metadata": {},
   "source": [
    "TO DO"
   ]
  },
  {
   "cell_type": "code",
   "execution_count": null,
   "metadata": {
    "collapsed": true
   },
   "outputs": [],
   "source": []
  }
 ],
 "metadata": {
  "kernelspec": {
   "display_name": "Python 2",
   "language": "python",
   "name": "python2"
  },
  "language_info": {
   "codemirror_mode": {
    "name": "ipython",
    "version": 2
   },
   "file_extension": ".py",
   "mimetype": "text/x-python",
   "name": "python",
   "nbconvert_exporter": "python",
   "pygments_lexer": "ipython2",
   "version": "2.7.10"
  }
 },
 "nbformat": 4,
 "nbformat_minor": 0
}
