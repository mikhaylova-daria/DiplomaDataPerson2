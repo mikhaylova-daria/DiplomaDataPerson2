{
 "cells": [
  {
   "cell_type": "code",
   "execution_count": 4,
   "metadata": {
    "collapsed": true
   },
   "outputs": [],
   "source": [
    "from sklearn.externals import joblib"
   ]
  },
  {
   "cell_type": "code",
   "execution_count": 1,
   "metadata": {
    "collapsed": true
   },
   "outputs": [],
   "source": [
    "from scipy import sparse\n",
    "import csv\n",
    "import sys\n",
    "import os\n",
    "import pandas\n",
    "import numpy as np\n",
    "import multiprocessing"
   ]
  },
  {
   "cell_type": "code",
   "execution_count": 2,
   "metadata": {
    "collapsed": false
   },
   "outputs": [],
   "source": [
    "X = []\n",
    "Y = []\n",
    "f1=open(unicode('./datasetPersonTab'))\n",
    "f2=open(unicode('./datasetNNPTab'))\n",
    "for i, line in enumerate(f1):\n",
    "    if (i == 0):\n",
    "        continue\n",
    "    X.append(line.strip().split('\\t')[4:])\n",
    "    Y.append('Person')\n",
    "size = len(X)\n",
    "np.random.shuffle(X)\n",
    "for i, line in enumerate(f2):\n",
    "    if (i == 0):\n",
    "        continue\n",
    "    X.append(line.strip().split('\\t')[4:])\n",
    "    Y.append('No')\n",
    "np.random.shuffle(X[size:])"
   ]
  },
  {
   "cell_type": "code",
   "execution_count": 103,
   "metadata": {
    "collapsed": false
   },
   "outputs": [],
   "source": [
    "X_test = []\n",
    "Y_test = []\n",
    "f1=open(unicode('./datasetPersonTabTest'))\n",
    "f2=open(unicode('./datasetNNPTabTest'))\n",
    "for i, line in enumerate(f1):\n",
    "    if (i == 0):\n",
    "        continue\n",
    "    X_test.append(line.strip().split('\\t')[4:])\n",
    "    Y_test.append('Person')\n",
    "size_test = len(X_test)\n",
    "for i, line in enumerate(f2):\n",
    "    if (i == 0):\n",
    "        continue\n",
    "    X_test.append(line.strip().split('\\t')[4:])\n",
    "    Y_test.append('No')"
   ]
  },
  {
   "cell_type": "code",
   "execution_count": 5,
   "metadata": {
    "collapsed": false
   },
   "outputs": [
    {
     "data": {
      "text/plain": [
       "['./DiplomaDataPerson_X.joblib.pkl']"
      ]
     },
     "execution_count": 5,
     "metadata": {},
     "output_type": "execute_result"
    }
   ],
   "source": [
    "filename = './DiplomaDataPerson_X.joblib.pkl'\n",
    "joblib.dump(X, filename, compress=3)"
   ]
  },
  {
   "cell_type": "code",
   "execution_count": 6,
   "metadata": {
    "collapsed": false
   },
   "outputs": [
    {
     "data": {
      "text/plain": [
       "['./DiplomaDataPerson_X_test.joblib.pkl']"
      ]
     },
     "execution_count": 6,
     "metadata": {},
     "output_type": "execute_result"
    }
   ],
   "source": [
    "filename = './DiplomaDataPerson_X_test.joblib.pkl'\n",
    "joblib.dump(X_test, filename, compress=3)"
   ]
  },
  {
   "cell_type": "code",
   "execution_count": 14,
   "metadata": {
    "collapsed": false
   },
   "outputs": [],
   "source": [
    "set_futures =[]\n",
    "for i in range(27):\n",
    "    set_futures.append(set())\n",
    "for x in X+X_test:\n",
    "    for i, x_i in enumerate(x):\n",
    "        set_futures[i].add(x_i)"
   ]
  },
  {
   "cell_type": "code",
   "execution_count": 15,
   "metadata": {
    "collapsed": false
   },
   "outputs": [],
   "source": [
    "feature_dict = []\n",
    "for i in range(27):\n",
    "    feature_dict.append(dict())\n",
    "    \n",
    "for i in range(27):\n",
    "    count = 0\n",
    "    for x in set_futures[i]:\n",
    "        feature_dict[i][x] = count\n",
    "        count+=1"
   ]
  },
  {
   "cell_type": "code",
   "execution_count": 16,
   "metadata": {
    "collapsed": false
   },
   "outputs": [],
   "source": [
    "X_int=[]\n",
    "for x in X:\n",
    "    X_int.append(x) \n",
    "for i, x in enumerate(X):\n",
    "    for j, x_j in enumerate(x):\n",
    "        X_int[i][j]=feature_dict[j][x_j]"
   ]
  },
  {
   "cell_type": "code",
   "execution_count": 17,
   "metadata": {
    "collapsed": true
   },
   "outputs": [],
   "source": [
    "X_int_test=[]\n",
    "for x in X_test:\n",
    "    X_int_test.append(x) \n",
    "for i, x in enumerate(X_test):\n",
    "    for j, x_j in enumerate(x):\n",
    "        X_int_test[i][j]=feature_dict[j][x_j]"
   ]
  },
  {
   "cell_type": "code",
   "execution_count": 18,
   "metadata": {
    "collapsed": false
   },
   "outputs": [
    {
     "data": {
      "text/plain": [
       "['./DiplomaDataPerson_X_int_test.joblib.pkl']"
      ]
     },
     "execution_count": 18,
     "metadata": {},
     "output_type": "execute_result"
    }
   ],
   "source": [
    "filename = './DiplomaDataPerson_X_int.joblib.pkl'\n",
    "joblib.dump(X_int, filename, compress=3)\n",
    "filename = './DiplomaDataPerson_X_int_test.joblib.pkl'\n",
    "joblib.dump(X_int_test, filename, compress=3)"
   ]
  },
  {
   "cell_type": "code",
   "execution_count": 19,
   "metadata": {
    "collapsed": true
   },
   "outputs": [],
   "source": [
    "from sklearn.preprocessing import OneHotEncoder\n",
    "enc = OneHotEncoder()"
   ]
  },
  {
   "cell_type": "code",
   "execution_count": 20,
   "metadata": {
    "collapsed": false
   },
   "outputs": [
    {
     "name": "stdout",
     "output_type": "stream",
     "text": [
      "[[3, 5985, 15047, 352, 1, 1, 0, 2438, 1, 3, 33136, 3120, 2256, 1, 1, 1, 1343, 26, 4, 50165, 5680, 169, 1, 1, 1, 160, 20], [0, 61066, 9439, 1402, 1, 1, 0, 2438, 1, 2, 12331, 9889, 898, 1, 0, 1, 1423, 23, 10, 32273, 4578, 860, 1, 0, 1, 1479, 27]]\n"
     ]
    }
   ],
   "source": [
    "X_big_int = X_int + X_int_test\n",
    "print X_big_int[:2]"
   ]
  },
  {
   "cell_type": "code",
   "execution_count": 21,
   "metadata": {
    "collapsed": false
   },
   "outputs": [
    {
     "data": {
      "text/plain": [
       "<894375x387382 sparse matrix of type '<type 'numpy.float64'>'\n",
       "\twith 24148125 stored elements in Compressed Sparse Row format>"
      ]
     },
     "execution_count": 21,
     "metadata": {},
     "output_type": "execute_result"
    }
   ],
   "source": [
    "enc.fit_transform(X_big_int)"
   ]
  },
  {
   "cell_type": "code",
   "execution_count": 22,
   "metadata": {
    "collapsed": false
   },
   "outputs": [],
   "source": [
    "X_sparse_matrix = enc.transform(X_int[:200000])"
   ]
  },
  {
   "cell_type": "code",
   "execution_count": 25,
   "metadata": {
    "collapsed": false
   },
   "outputs": [],
   "source": [
    "X_sparse_matrix_test = enc.transform(X_int_test[:200000])"
   ]
  },
  {
   "cell_type": "code",
   "execution_count": 26,
   "metadata": {
    "collapsed": false
   },
   "outputs": [
    {
     "data": {
      "text/plain": [
       "(200000, 387382)"
      ]
     },
     "execution_count": 26,
     "metadata": {},
     "output_type": "execute_result"
    }
   ],
   "source": [
    "X_sparse_matrix_test.shape"
   ]
  },
  {
   "cell_type": "code",
   "execution_count": 29,
   "metadata": {
    "collapsed": false
   },
   "outputs": [],
   "source": [
    "import sklearn.ensemble  \n",
    "RF = sklearn.ensemble.RandomForestClassifier(n_estimators=500, n_jobs=-1)\n",
    "RF_plain = sklearn.ensemble.RandomForestClassifier(n_estimators=50, n_jobs=-1)"
   ]
  },
  {
   "cell_type": "code",
   "execution_count": 30,
   "metadata": {
    "collapsed": false
   },
   "outputs": [
    {
     "name": "stderr",
     "output_type": "stream",
     "text": [
      "/home/ubuntu/anaconda2/lib/python2.7/site-packages/sklearn/utils/__init__.py:93: DeprecationWarning: Function transform is deprecated; Support to use estimators as feature selectors will be removed in version 0.19. Use SelectFromModel instead.\n",
      "  warnings.warn(msg, category=DeprecationWarning)\n"
     ]
    }
   ],
   "source": [
    "X_new = RF_plain.fit_transform(X_sparse_matrix, Y[:200000])"
   ]
  },
  {
   "cell_type": "code",
   "execution_count": 31,
   "metadata": {
    "collapsed": false
   },
   "outputs": [
    {
     "data": {
      "text/plain": [
       "['./DiplomaDataPerson_RF_50_200ka_baddata.joblib.pkl']"
      ]
     },
     "execution_count": 31,
     "metadata": {},
     "output_type": "execute_result"
    }
   ],
   "source": [
    "from sklearn.externals import joblib\n",
    "filename = './DiplomaDataPerson_RF_50_200ka_baddata.joblib.pkl'\n",
    "joblib.dump(RF, filename, compress=3)"
   ]
  },
  {
   "cell_type": "markdown",
   "metadata": {
    "collapsed": true
   },
   "source": [
    "DONE!!!"
   ]
  },
  {
   "cell_type": "code",
   "execution_count": 116,
   "metadata": {
    "collapsed": false
   },
   "outputs": [],
   "source": [
    "Y_test_proba =RF_plain.predict_proba(enc.transform(X_int[96946:]))"
   ]
  },
  {
   "cell_type": "code",
   "execution_count": 117,
   "metadata": {
    "collapsed": false
   },
   "outputs": [
    {
     "name": "stdout",
     "output_type": "stream",
     "text": [
      "8509\n"
     ]
    }
   ],
   "source": [
    "k = 0\n",
    "for i, y in enumerate(Y_test_proba):\n",
    "    if y[1] > 0.9:\n",
    "        Y[96946+i] = 'Person'\n",
    "        k+=1\n",
    "print k"
   ]
  },
  {
   "cell_type": "code",
   "execution_count": 94,
   "metadata": {
    "collapsed": false
   },
   "outputs": [
    {
     "data": {
      "text/plain": [
       "['./DiplomaDataPerson_Y_train.joblib.pkl']"
      ]
     },
     "execution_count": 94,
     "metadata": {},
     "output_type": "execute_result"
    }
   ],
   "source": [
    "from sklearn.externals import joblib\n",
    "filename = './DiplomaDataPerson_Y_train.joblib.pkl'\n",
    "joblib.dump(Y, filename, compress=3)"
   ]
  },
  {
   "cell_type": "code",
   "execution_count": 128,
   "metadata": {
    "collapsed": false
   },
   "outputs": [],
   "source": [
    "Y_test_result =RF_plain.predict_proba(enc.transform(X_int_test))"
   ]
  },
  {
   "cell_type": "code",
   "execution_count": 134,
   "metadata": {
    "collapsed": false
   },
   "outputs": [
    {
     "name": "stdout",
     "output_type": "stream",
     "text": [
      "286095\n"
     ]
    }
   ],
   "source": [
    "k=0\n",
    "for y in Y_test_result:\n",
    "    if y[1] >0.1:\n",
    "        k+=1\n",
    "print k"
   ]
  },
  {
   "cell_type": "code",
   "execution_count": 135,
   "metadata": {
    "collapsed": false
   },
   "outputs": [
    {
     "name": "stdout",
     "output_type": "stream",
     "text": [
      "[['2', 'Neil', 'eil', 'il', 'False', 'True', 'False', 'Xx', 'NNP', '-1', '(', '(', '(', 'False', 'False', 'False', '(', '(', '1.0', 'Ferguson', 'son', 'on', 'False', 'True', 'False', 'Xx', 'NNP'], ['-1', 'Neil', 'eil', 'il', 'False', 'True', 'False', 'Xx', 'NNP', '-1', 'wa', 'was', 'as', 'False', 'False', 'False', 'x', 'VBD', '-1.0', 'career', 'eer', 'er', 'False', 'False', 'False', 'x', 'NN'], ['-1', 'Neil', 'eil', 'il', 'False', 'True', 'False', 'Xx', 'NNP', '-1', 'pass', 'sed', 'ed', 'False', 'False', 'False', 'x', 'VBD', '2.0', ',', ',', ',', 'False', 'False', 'False', ',', ','], ['-1', 'Neil', 'eil', 'il', 'False', 'True', 'False', 'Xx', 'NNP', '-1', 'attend', 'ded', 'ed', 'False', 'False', 'False', 'x', 'VBD', '2.0', ',', ',', ',', 'False', 'False', 'False', ',', ','], ['-1', 'Vinc', 'nce', 'ce', 'False', 'True', 'False', 'Xx', 'NNP', '-1', 'Cabl', 'ble', 'le', 'False', 'True', 'False', 'Xx', 'NNP', '-1.0', 'by', 'by', 'by', 'False', 'False', 'False', 'x', 'IN'], ['-1', 'Cabl', 'ble', 'le', 'False', 'True', 'False', 'Xx', 'NNP', '-1', '.', '.', '.', 'False', 'False', 'False', '.', '.', '-1.0', 'Vinc', 'nce', 'ce', 'False', 'True', 'False', 'Xx', 'NNP'], ['-1', 'Neil', 'eil', 'il', 'False', 'True', 'False', 'Xx', 'NNP', '-1', 'briefli', 'fly', 'ly', 'False', 'False', 'False', 'x', 'NN', '2.0', ',', ',', ',', 'False', 'False', 'False', ',', ','], ['-1', 'Neil', 'eil', 'il', 'False', 'True', 'False', 'Xx', 'NNP', '-1', 'is', 'is', 'is', 'False', 'False', 'False', 'x', 'VBZ', '-1.0', ',', ',', ',', 'False', 'False', 'False', ',', ','], ['-1', 'Neil', 'eil', 'il', 'False', 'True', 'False', 'Xx', 'NNP', '-1', 'wa', 'was', 'as', 'False', 'False', 'False', 'x', 'VBD', '2.0', 'Time', 'mes', 'es', 'False', 'True', 'False', 'Xx', 'NNP'], ['-1', 'Rupert', 'ert', 'rt', 'False', 'True', 'False', 'Xx', 'NNP', '-1', 'Murdoch', 'och', 'ch', 'False', 'True', 'False', 'Xx', 'NNP', '-1.0', 'by', 'by', 'by', 'False', 'False', 'False', 'x', 'IN']]\n"
     ]
    }
   ],
   "source": []
  },
  {
   "cell_type": "code",
   "execution_count": 100,
   "metadata": {
    "collapsed": true
   },
   "outputs": [],
   "source": [
    "filename = './DiplomaDataPerson_X_test.joblib.pkl'\n",
    "X_test = joblib.load(filename)"
   ]
  },
  {
   "cell_type": "code",
   "execution_count": 101,
   "metadata": {
    "collapsed": false
   },
   "outputs": [],
   "source": []
  },
  {
   "cell_type": "code",
   "execution_count": 110,
   "metadata": {
    "collapsed": false
   },
   "outputs": [
    {
     "name": "stdout",
     "output_type": "stream",
     "text": [
      "0.0\n",
      "0.0\n",
      "0 46850 0 239245\n"
     ]
    }
   ],
   "source": [
    "f = open('./personWithLabelNoTest', 'w')\n",
    "f_n = 0\n",
    "f_p = 0\n",
    "t_n=0\n",
    "t_p=0\n",
    "for i, y in enumerate(Y_test_result):\n",
    "    if y != Y_test[i]:\n",
    "        if y=='No':\n",
    "            f_n+=1\n",
    "            #print X[10000+i]\n",
    "        else:\n",
    "            f_p+=1\n",
    "    elif y =='No':\n",
    "        t_n+=1 \n",
    "        for x in X_test[i]:\n",
    "            f.write(x)\n",
    "            f.write(',')\n",
    "        f.write('\\n')\n",
    "    else:\n",
    "        t_p+=1\n",
    "f.close()\n",
    "recall = t_p*1./(t_p+f_n+1)\n",
    "presision = t_p*1./(t_p+f_p+1)\n",
    "print recall\n",
    "print presision\n",
    "print f_p, f_n, t_p, t_n\n",
    "    "
   ]
  },
  {
   "cell_type": "code",
   "execution_count": null,
   "metadata": {
    "collapsed": true
   },
   "outputs": [],
   "source": []
  },
  {
   "cell_type": "code",
   "execution_count": null,
   "metadata": {
    "collapsed": false
   },
   "outputs": [],
   "source": [
    "F_measure = 2*presision*recall/(presision+recall)\n",
    "print F_measure"
   ]
  },
  {
   "cell_type": "code",
   "execution_count": null,
   "metadata": {
    "collapsed": true
   },
   "outputs": [],
   "source": [
    "scores = cross_validation.cross_val_score(RF, X_sparse_matrix, Y[:300000], cv = 9,n_jobs=-1)"
   ]
  },
  {
   "cell_type": "markdown",
   "metadata": {},
   "source": [
    "TO DO"
   ]
  },
  {
   "cell_type": "code",
   "execution_count": null,
   "metadata": {
    "collapsed": true
   },
   "outputs": [],
   "source": []
  }
 ],
 "metadata": {
  "kernelspec": {
   "display_name": "Python 2",
   "language": "python",
   "name": "python2"
  },
  "language_info": {
   "codemirror_mode": {
    "name": "ipython",
    "version": 2
   },
   "file_extension": ".py",
   "mimetype": "text/x-python",
   "name": "python",
   "nbconvert_exporter": "python",
   "pygments_lexer": "ipython2",
   "version": "2.7.11"
  }
 },
 "nbformat": 4,
 "nbformat_minor": 0
}
