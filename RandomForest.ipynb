{
 "cells": [
  {
   "cell_type": "code",
   "execution_count": 1,
   "metadata": {
    "collapsed": true
   },
   "outputs": [],
   "source": [
    "from scipy import sparse\n",
    "import csv\n",
    "import sys\n",
    "import os\n",
    "import pandas\n",
    "import numpy as np\n",
    "import multiprocessing"
   ]
  },
  {
   "cell_type": "code",
   "execution_count": 2,
   "metadata": {
    "collapsed": false
   },
   "outputs": [],
   "source": [
    "X = []\n",
    "Y = []\n",
    "f1=open(unicode('./datasetPersonTab'))\n",
    "f2=open(unicode('./datasetNNPTab'))\n",
    "for i, line in enumerate(f1):\n",
    "    if (i == 0):\n",
    "        continue\n",
    "    X.append(line.strip().split('\\t')[4:])\n",
    "    Y.append('Person')\n",
    "size = len(X)\n",
    "np.random.shuffle(X)\n",
    "for i, line in enumerate(f2):\n",
    "    if (i == 0):\n",
    "        continue\n",
    "    X.append(line.strip().split('\\t')[4:])\n",
    "    Y.append('No')\n",
    "np.random.shuffle(X[size:])"
   ]
  },
  {
   "cell_type": "code",
   "execution_count": null,
   "metadata": {
    "collapsed": true
   },
   "outputs": [],
   "source": [
    "X_test = []\n",
    "Y_test = []\n",
    "f1=open(unicode('./datasetPersonTestTab'))\n",
    "f2=open(unicode('./datasetNNPTestTab'))\n",
    "for i, line in enumerate(f1):\n",
    "    if (i == 0):\n",
    "        continue\n",
    "    X.append(line.strip().split('\\t')[4:])\n",
    "    Y.append('Person')\n",
    "size = len(X)\n",
    "np.random.shuffle(X)\n",
    "for i, line in enumerate(f2):\n",
    "    if (i == 0):\n",
    "        continue\n",
    "    X.append(line.strip().split('\\t')[4:])\n",
    "    Y.append('No')\n",
    "np.random.shuffle(X[size:])"
   ]
  },
  {
   "cell_type": "code",
   "execution_count": 3,
   "metadata": {
    "collapsed": false
   },
   "outputs": [],
   "source": [
    "set_futures =[]\n",
    "for i in range(27):\n",
    "    set_futures.append(set())\n",
    "for x in X+X_test:\n",
    "    for i, x_i in enumerate(x):\n",
    "        set_futures[i].add(x_i)"
   ]
  },
  {
   "cell_type": "code",
   "execution_count": 4,
   "metadata": {
    "collapsed": false
   },
   "outputs": [],
   "source": [
    "feature_dict = []\n",
    "for i in range(27):\n",
    "    feature_dict.append(dict())\n",
    "    \n",
    "for i in range(27):\n",
    "    count = 0\n",
    "    for x in set_futures[i]:\n",
    "        feature_dict[i][x] = count\n",
    "        count+=1"
   ]
  },
  {
   "cell_type": "code",
   "execution_count": 5,
   "metadata": {
    "collapsed": false
   },
   "outputs": [],
   "source": [
    "X_int=[]\n",
    "for x in X:\n",
    "    X_int.append(x) \n",
    "for i, x in enumerate(X):\n",
    "    for j, x_j in enumerate(x):\n",
    "        X_int[i][j]=feature_dict[j][x_j]"
   ]
  },
  {
   "cell_type": "code",
   "execution_count": null,
   "metadata": {
    "collapsed": true
   },
   "outputs": [],
   "source": [
    "X_int_test=[]\n",
    "for x in X_test:\n",
    "    X_int.append(x) \n",
    "for i, x in enumerate(X_test):\n",
    "    for j, x_j in enumerate(x):\n",
    "        X_int_test[i][j]=feature_dict[j][x_j]"
   ]
  },
  {
   "cell_type": "code",
   "execution_count": 6,
   "metadata": {
    "collapsed": true
   },
   "outputs": [],
   "source": [
    "from sklearn.externals import joblib"
   ]
  },
  {
   "cell_type": "code",
   "execution_count": 7,
   "metadata": {
    "collapsed": false
   },
   "outputs": [
    {
     "data": {
      "text/plain": [
       "['./DiplomaDataPerson_X_int.joblib.pkl']"
      ]
     },
     "execution_count": 7,
     "metadata": {},
     "output_type": "execute_result"
    }
   ],
   "source": [
    "filename = './DiplomaDataPerson_X_int.joblib.pkl'\n",
    "joblib.dump(X_int, filename, compress=9)"
   ]
  },
  {
   "cell_type": "code",
   "execution_count": 8,
   "metadata": {
    "collapsed": true
   },
   "outputs": [],
   "source": [
    "X_int_int = joblib.load(filename)"
   ]
  },
  {
   "cell_type": "code",
   "execution_count": 10,
   "metadata": {
    "collapsed": false
   },
   "outputs": [
    {
     "data": {
      "text/plain": [
       "608280"
      ]
     },
     "execution_count": 10,
     "metadata": {},
     "output_type": "execute_result"
    }
   ],
   "source": [
    "len(X_int_int)"
   ]
  },
  {
   "cell_type": "code",
   "execution_count": 51,
   "metadata": {
    "collapsed": true
   },
   "outputs": [],
   "source": [
    "from sklearn.preprocessing import OneHotEncoder\n",
    "enc = OneHotEncoder()"
   ]
  },
  {
   "cell_type": "code",
   "execution_count": 52,
   "metadata": {
    "collapsed": false
   },
   "outputs": [
    {
     "data": {
      "text/plain": [
       "<608280x243312 sparse matrix of type '<type 'numpy.float64'>'\n",
       "\twith 16423560 stored elements in Compressed Sparse Row format>"
      ]
     },
     "execution_count": 52,
     "metadata": {},
     "output_type": "execute_result"
    }
   ],
   "source": [
    "enc.fit_transform(X_int)"
   ]
  },
  {
   "cell_type": "code",
   "execution_count": 53,
   "metadata": {
    "collapsed": false
   },
   "outputs": [],
   "source": [
    "X_sparse_matrix = enc.transform(X_int[:70000]+X_int[200000:330000])"
   ]
  },
  {
   "cell_type": "code",
   "execution_count": 56,
   "metadata": {
    "collapsed": false
   },
   "outputs": [
    {
     "data": {
      "text/plain": [
       "(200000, 243312)"
      ]
     },
     "execution_count": 56,
     "metadata": {},
     "output_type": "execute_result"
    }
   ],
   "source": [
    "X_sparse_matrix.shape"
   ]
  },
  {
   "cell_type": "code",
   "execution_count": 57,
   "metadata": {
    "collapsed": false
   },
   "outputs": [],
   "source": [
    "import sklearn.ensemble  \n",
    "RF = sklearn.ensemble.RandomForestClassifier(n_estimators=400, n_jobs=3)"
   ]
  },
  {
   "cell_type": "code",
   "execution_count": null,
   "metadata": {
    "collapsed": false
   },
   "outputs": [],
   "source": [
    "X_new = RF.fit_transform(X_sparse_matrix, Y[:70000]+Y[200000:330000])"
   ]
  },
  {
   "cell_type": "markdown",
   "metadata": {
    "collapsed": true
   },
   "source": [
    "DONE!!!"
   ]
  },
  {
   "cell_type": "code",
   "execution_count": null,
   "metadata": {
    "collapsed": false
   },
   "outputs": [],
   "source": [
    "Y_train =RF.predict(enc.transform(X_int[5000:5500]))"
   ]
  },
  {
   "cell_type": "code",
   "execution_count": null,
   "metadata": {
    "collapsed": false
   },
   "outputs": [],
   "source": [
    "f_n = 0\n",
    "f_p = 0\n",
    "t_n=0\n",
    "t_p=0\n",
    "for i, y in enumerate(Y_train):\n",
    "    if y != Y[5000+i]:\n",
    "        if y=='No':\n",
    "            f_n+=1\n",
    "            #print X[10000+i]\n",
    "        else:\n",
    "            f_p+=1\n",
    "    elif y =='No':\n",
    "        t_n+=1\n",
    "    else:\n",
    "        t_p+=1\n",
    "recall = t_p*1./(t_p+f_n+1)\n",
    "presision = t_p*1./(t_p+f_p+1)\n",
    "print recall\n",
    "print presision\n",
    "print f_p, f_n, t_p, t_n\n",
    "    "
   ]
  },
  {
   "cell_type": "code",
   "execution_count": null,
   "metadata": {
    "collapsed": false
   },
   "outputs": [],
   "source": [
    "F_measure = 2*presision*recall/(presision+recall)\n",
    "print F_measure"
   ]
  },
  {
   "cell_type": "code",
   "execution_count": null,
   "metadata": {
    "collapsed": true
   },
   "outputs": [],
   "source": [
    "scores = cross_validation.cross_val_score(RF, X_sparse_matrix, Y[:300000], cv = 9,n_jobs=-1)"
   ]
  },
  {
   "cell_type": "markdown",
   "metadata": {},
   "source": [
    "TO DO"
   ]
  },
  {
   "cell_type": "code",
   "execution_count": null,
   "metadata": {
    "collapsed": true
   },
   "outputs": [],
   "source": []
  }
 ],
 "metadata": {
  "kernelspec": {
   "display_name": "Python 2",
   "language": "python",
   "name": "python2"
  },
  "language_info": {
   "codemirror_mode": {
    "name": "ipython",
    "version": 2
   },
   "file_extension": ".py",
   "mimetype": "text/x-python",
   "name": "python",
   "nbconvert_exporter": "python",
   "pygments_lexer": "ipython2",
   "version": "2.7.10"
  }
 },
 "nbformat": 4,
 "nbformat_minor": 0
}
