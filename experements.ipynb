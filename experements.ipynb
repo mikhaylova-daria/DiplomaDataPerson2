{
 "cells": [
  {
   "cell_type": "code",
   "execution_count": 2,
   "metadata": {
    "collapsed": true
   },
   "outputs": [],
   "source": [
    "from scipy import sparse\n",
    "import csv\n",
    "import sys\n",
    "import os\n",
    "import pandas\n",
    "import numpy as np\n",
    "import multiprocessing\n",
    "import random\n",
    "from sklearn.externals import joblib\n",
    "import sklearn.ensemble  "
   ]
  },
  {
   "cell_type": "code",
   "execution_count": 23,
   "metadata": {
    "collapsed": false
   },
   "outputs": [],
   "source": [
    "X = []\n",
    "Y = []\n",
    "f1=open(unicode('./datasetPersonTab'))\n",
    "f2=open(unicode('./datasetNNPTab'))\n",
    "for i, line in enumerate(f1):\n",
    "    if (i == 0):\n",
    "        continue\n",
    "    X.append(line.strip().split('\\t')[1])\n",
    "    Y.append('Person')\n",
    "size = len(X)\n",
    "for i, line in enumerate(f2):\n",
    "    if (i == 0):\n",
    "        continue\n",
    "    X.append(line.strip().split('\\t')[1])\n",
    "    Y.append('No')"
   ]
  },
  {
   "cell_type": "code",
   "execution_count": 5,
   "metadata": {
    "collapsed": true
   },
   "outputs": [],
   "source": [
    "filename = './DiplomaDataPerson_X_int.joblib.pkl'\n",
    "X_int = joblib.load(filename)\n",
    "filename = './DiplomaDataPerson_X_int_test.joblib.pkl'\n",
    "X_int_test = joblib.load(filename)\n",
    "filename = './DiplomaDataPerson_RF50_200000.joblib.pkl'\n",
    "RF = joblib.load(filename)\n",
    "filename = './DiplomaDataPerson_enc.joblib.pkl'\n",
    "enc = joblib.load(filename)\n",
    "#96945"
   ]
  },
  {
   "cell_type": "code",
   "execution_count": 6,
   "metadata": {
    "collapsed": false
   },
   "outputs": [],
   "source": [
    "Y_test_result =RF.predict_proba(enc.transform(X_int))"
   ]
  },
  {
   "cell_type": "code",
   "execution_count": 24,
   "metadata": {
    "collapsed": false
   },
   "outputs": [
    {
     "name": "stdout",
     "output_type": "stream",
     "text": [
      "0.69711810667\n",
      "0.999986463804\n",
      "0 32096 73875 502309\n",
      "0.821527067301\n"
     ]
    }
   ],
   "source": [
    "f_n = 0\n",
    "f_p = 0\n",
    "t_n=0\n",
    "t_p=0\n",
    "f = open('f_p_X_train', 'w')\n",
    "for i, y in enumerate(Y_test_result):\n",
    "    y_str = 'No'\n",
    "    if y[1]>0.9:\n",
    "        y_str = 'Person'\n",
    "        Y[i]='Person'\n",
    "        f.write(str(i))\n",
    "        f.write(',')\n",
    "        f.write(X[i])\n",
    "        f.write(',')\n",
    "        f.write(str(y[1]))\n",
    "        f.write('\\n')\n",
    "    if y_str != Y[i]:\n",
    "        if y_str=='No':\n",
    "            f_n+=1\n",
    "            #print X[10000+i]\n",
    "        else:\n",
    "            f_p+=1\n",
    "            \n",
    "    elif y_str =='No':\n",
    "        t_n+=1\n",
    "    else:\n",
    "        t_p+=1\n",
    "recall = t_p*1./(t_p+f_n+1)\n",
    "presision = t_p*1./(t_p+f_p+1)\n",
    "print recall\n",
    "print presision\n",
    "print f_p, f_n, t_p, t_n\n",
    "F_measure = 2*presision*recall/(presision+recall)\n",
    "print F_measure   \n",
    "#recall_set[len(Y_test_result)] = recall\n",
    "#presision_set[len(Y_test_result)] = presision\n",
    "#F_measure_set[len(Y_test_result)] = F_measure\n",
    "f.close()"
   ]
  },
  {
   "cell_type": "code",
   "execution_count": 27,
   "metadata": {
    "collapsed": false
   },
   "outputs": [],
   "source": [
    "import random\n",
    "X_train = X_int[:size]\n",
    "Y_train = Y[:size]\n",
    "for i in range(size, len(X_int)):\n",
    "    y = random.uniform(0, 1)\n",
    "    if Y[i] == 'Person':\n",
    "        X_train.append(X_int[i])\n",
    "        Y_train.append('Person') \n",
    "    elif y >0.5:\n",
    "        X_train.append(X_int[i])\n",
    "        Y_train.append('No') "
   ]
  },
  {
   "cell_type": "code",
   "execution_count": 28,
   "metadata": {
    "collapsed": true
   },
   "outputs": [],
   "source": [
    "size = 96945\n",
    "random.shuffle(X_int[size:])\n",
    "X_sparse_matrix = enc.transform(X_int[:200000])"
   ]
  },
  {
   "cell_type": "code",
   "execution_count": null,
   "metadata": {
    "collapsed": true
   },
   "outputs": [],
   "source": [
    "import sklearn.ensemble  \n",
    "RF = sklearn.ensemble.RandomForestClassifier(n_estimators=50, n_jobs=3)\n",
    "RF.fit(X_sparse_matrix, Y_train[:200000])"
   ]
  },
  {
   "cell_type": "code",
   "execution_count": null,
   "metadata": {
    "collapsed": true
   },
   "outputs": [],
   "source": []
  }
 ],
 "metadata": {
  "kernelspec": {
   "display_name": "Python 2",
   "language": "python",
   "name": "python2"
  },
  "language_info": {
   "codemirror_mode": {
    "name": "ipython",
    "version": 2
   },
   "file_extension": ".py",
   "mimetype": "text/x-python",
   "name": "python",
   "nbconvert_exporter": "python",
   "pygments_lexer": "ipython2",
   "version": "2.7.10"
  }
 },
 "nbformat": 4,
 "nbformat_minor": 0
}
