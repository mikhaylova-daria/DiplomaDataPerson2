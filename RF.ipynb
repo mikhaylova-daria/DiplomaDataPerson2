{
 "cells": [
  {
   "cell_type": "code",
   "execution_count": 1,
   "metadata": {
    "collapsed": true
   },
   "outputs": [],
   "source": [
    "from scipy import sparse\n",
    "import csv\n",
    "import sys\n",
    "import os\n",
    "import pandas\n",
    "import numpy as np\n",
    "import multiprocessing\n",
    "import random\n",
    "from sklearn.externals import joblib"
   ]
  },
  {
   "cell_type": "code",
   "execution_count": 2,
   "metadata": {
    "collapsed": true
   },
   "outputs": [],
   "source": [
    "X = []\n",
    "Y = []\n",
    "f1=open(unicode('./datasetPersonTab'))\n",
    "f2=open(unicode('./datasetNNPTab'))\n",
    "for i, line in enumerate(f1):\n",
    "    if (i == 0):\n",
    "        continue\n",
    "    X.append(line.strip().split('\\t')[4:])\n",
    "    Y.append('Person')\n",
    "size = len(X)\n",
    "for i, line in enumerate(f2):\n",
    "    if (i == 0):\n",
    "        continue\n",
    "    X.append(line.strip().split('\\t')[4:])\n",
    "    Y.append('No')"
   ]
  },
  {
   "cell_type": "code",
   "execution_count": 3,
   "metadata": {
    "collapsed": true
   },
   "outputs": [],
   "source": [
    "X_test = []\n",
    "Y_test = []\n",
    "f1=open(unicode('./datasetPersonTabLastTest'))\n",
    "f2=open(unicode('./datasetNNPTabLastTest'))\n",
    "for i, line in enumerate(f1):\n",
    "    if (i == 0):\n",
    "        continue\n",
    "    X_test.append(line.strip().split('\\t')[4:])\n",
    "    Y_test.append('Person')\n",
    "for i, line in enumerate(f2):\n",
    "    if (i == 0):\n",
    "        continue\n",
    "    X_test.append(line.strip().split('\\t')[4:])\n",
    "    Y_test.append('No')"
   ]
  },
  {
   "cell_type": "code",
   "execution_count": 4,
   "metadata": {
    "collapsed": true
   },
   "outputs": [],
   "source": [
    "X_ = []\n",
    "Y_ = []\n",
    "f1=open(unicode('./datasetPersonTabTest'))\n",
    "f2=open(unicode('./datasetNNPTabTest'))\n",
    "for i, line in enumerate(f1):\n",
    "    if (i == 0):\n",
    "        continue\n",
    "    X_.append(line.strip().split('\\t')[4:])\n",
    "    Y_.append('Person')\n",
    "for i, line in enumerate(f2):\n",
    "    if (i == 0):\n",
    "        continue\n",
    "    X_.append(line.strip().split('\\t')[4:])\n",
    "    Y_.append('No')"
   ]
  },
  {
   "cell_type": "code",
   "execution_count": 27,
   "metadata": {
    "collapsed": true
   },
   "outputs": [],
   "source": [
    "set_futures =[]\n",
    "for i in range(27):\n",
    "    set_futures.append(set())\n",
    "for x in X+X_test+X_:\n",
    "    for i, x_i in enumerate(x):\n",
    "        set_futures[i].add(x_i)"
   ]
  },
  {
   "cell_type": "code",
   "execution_count": 28,
   "metadata": {
    "collapsed": true
   },
   "outputs": [],
   "source": [
    "feature_dict = []\n",
    "for i in range(27):\n",
    "    feature_dict.append(dict())\n",
    "    \n",
    "for i in range(27):\n",
    "    count = 0\n",
    "    for x in set_futures[i]:\n",
    "        feature_dict[i][x] = count\n",
    "        count+=1"
   ]
  },
  {
   "cell_type": "code",
   "execution_count": 29,
   "metadata": {
    "collapsed": false
   },
   "outputs": [
    {
     "data": {
      "text/plain": [
       "['./DiplomaDataPerson_feature_dict.joblib.pkl']"
      ]
     },
     "execution_count": 29,
     "metadata": {},
     "output_type": "execute_result"
    }
   ],
   "source": [
    "filename = './DiplomaDataPerson_feature_dict.joblib.pkl'\n",
    "joblib.dump(feature_dict, filename, compress=3)"
   ]
  },
  {
   "cell_type": "code",
   "execution_count": 30,
   "metadata": {
    "collapsed": false
   },
   "outputs": [
    {
     "data": {
      "text/plain": [
       "['./DiplomaDataPerson_set_futures.joblib.pkl']"
      ]
     },
     "execution_count": 30,
     "metadata": {},
     "output_type": "execute_result"
    }
   ],
   "source": [
    "filename = './DiplomaDataPerson_set_futures.joblib.pkl'\n",
    "joblib.dump(set_futures, filename, compress=3)"
   ]
  },
  {
   "cell_type": "code",
   "execution_count": 31,
   "metadata": {
    "collapsed": true
   },
   "outputs": [],
   "source": [
    "X_int=[]\n",
    "for x in X:\n",
    "    X_int.append([0]*len(x)) \n",
    "for i, x in enumerate(X):\n",
    "    for j, x_j in enumerate(x):\n",
    "        X_int[i][j]=feature_dict[j][x_j]"
   ]
  },
  {
   "cell_type": "code",
   "execution_count": 32,
   "metadata": {
    "collapsed": false
   },
   "outputs": [
    {
     "data": {
      "text/plain": [
       "['./DiplomaDataPerson_X_int.joblib.pkl']"
      ]
     },
     "execution_count": 32,
     "metadata": {},
     "output_type": "execute_result"
    }
   ],
   "source": [
    "filename = './DiplomaDataPerson_X_int.joblib.pkl'\n",
    "joblib.dump(X_int, filename, compress=3)"
   ]
  },
  {
   "cell_type": "code",
   "execution_count": 33,
   "metadata": {
    "collapsed": true
   },
   "outputs": [],
   "source": [
    "X__int=[]\n",
    "for x in X_:\n",
    "    X__int.append([0]*len(x)) \n",
    "for i, x in enumerate(X_):\n",
    "    for j, x_j in enumerate(x):\n",
    "        X__int[i][j]=feature_dict[j][x_j]"
   ]
  },
  {
   "cell_type": "code",
   "execution_count": 34,
   "metadata": {
    "collapsed": false
   },
   "outputs": [
    {
     "data": {
      "text/plain": [
       "['./DiplomaDataPerson_X_int_test.joblib.pkl']"
      ]
     },
     "execution_count": 34,
     "metadata": {},
     "output_type": "execute_result"
    }
   ],
   "source": [
    "filename = './DiplomaDataPerson_X_int_test.joblib.pkl'\n",
    "joblib.dump(X__int, filename, compress=3)"
   ]
  },
  {
   "cell_type": "code",
   "execution_count": 35,
   "metadata": {
    "collapsed": true
   },
   "outputs": [],
   "source": [
    "X_int_test=[]\n",
    "for x in X_test:\n",
    "    X_int_test.append([0]*len(x)) \n",
    "for i, x in enumerate(X_test):\n",
    "    for j, x_j in enumerate(x):\n",
    "        X_int_test[i][j]=feature_dict[j][x_j]"
   ]
  },
  {
   "cell_type": "code",
   "execution_count": 36,
   "metadata": {
    "collapsed": false
   },
   "outputs": [
    {
     "data": {
      "text/plain": [
       "['./DiplomaDataPerson_X_int_test_last.joblib.pkl']"
      ]
     },
     "execution_count": 36,
     "metadata": {},
     "output_type": "execute_result"
    }
   ],
   "source": [
    "filename = './DiplomaDataPerson_X_int_test_last.joblib.pkl'\n",
    "joblib.dump(X_int_test, filename, compress=3)"
   ]
  },
  {
   "cell_type": "code",
   "execution_count": 37,
   "metadata": {
    "collapsed": false
   },
   "outputs": [],
   "source": [
    "from sklearn.preprocessing import OneHotEncoder\n",
    "enc = OneHotEncoder()\n"
   ]
  },
  {
   "cell_type": "code",
   "execution_count": 38,
   "metadata": {
    "collapsed": false
   },
   "outputs": [],
   "source": [
    "X_gl = X_int+X_int_test+X__int"
   ]
  },
  {
   "cell_type": "code",
   "execution_count": 39,
   "metadata": {
    "collapsed": false
   },
   "outputs": [],
   "source": [
    "for i in range(len(X_int_test)):\n",
    "    if len(X_int_test[i]) != 27:\n",
    "        print i, len(X_int_test[i])"
   ]
  },
  {
   "cell_type": "code",
   "execution_count": 40,
   "metadata": {
    "collapsed": false
   },
   "outputs": [
    {
     "data": {
      "text/plain": [
       "['./DiplomaDataPerson_enc.joblib.pkl']"
      ]
     },
     "execution_count": 40,
     "metadata": {},
     "output_type": "execute_result"
    }
   ],
   "source": [
    "enc.fit_transform(X_int+X_int_test+X__int)\n",
    "filename = './DiplomaDataPerson_enc.joblib.pkl'\n",
    "joblib.dump(enc, filename, compress=3)"
   ]
  },
  {
   "cell_type": "code",
   "execution_count": 5,
   "metadata": {
    "collapsed": true
   },
   "outputs": [],
   "source": [
    "X_int = joblib.load('./DiplomaDataPerson_X_int.joblib.pkl')\n",
    "X__int = joblib.load('./DiplomaDataPerson_X_int_test.joblib.pkl')\n",
    "X_test_int = joblib.load('./DiplomaDataPerson_X_int_test_last.joblib.pkl')\n",
    "enc = joblib.load('./DiplomaDataPerson_enc.joblib.pkl')\n",
    "X__int = joblib.load('./DiplomaDataPerson_X_int_test.joblib.pkl')"
   ]
  },
  {
   "cell_type": "code",
   "execution_count": 216,
   "metadata": {
    "collapsed": true
   },
   "outputs": [],
   "source": [
    "random.shuffle(X_int[size:])\n",
    "X_sparse_matrix = enc.transform(X_int)"
   ]
  },
  {
   "cell_type": "code",
   "execution_count": 218,
   "metadata": {
    "collapsed": false
   },
   "outputs": [
    {
     "name": "stderr",
     "output_type": "stream",
     "text": [
      "/home/ubuntu/anaconda2/lib/python2.7/site-packages/sklearn/utils/__init__.py:93: DeprecationWarning: Function transform is deprecated; Support to use estimators as feature selectors will be removed in version 0.19. Use SelectFromModel instead.\n",
      "  warnings.warn(msg, category=DeprecationWarning)\n",
      "/home/ubuntu/anaconda2/lib/python2.7/site-packages/sklearn/utils/__init__.py:93: DeprecationWarning: Function transform is deprecated; Support to use estimators as feature selectors will be removed in version 0.19. Use SelectFromModel instead.\n",
      "  warnings.warn(msg, category=DeprecationWarning)\n",
      "/home/ubuntu/anaconda2/lib/python2.7/site-packages/sklearn/utils/__init__.py:93: DeprecationWarning: Function transform is deprecated; Support to use estimators as feature selectors will be removed in version 0.19. Use SelectFromModel instead.\n",
      "  warnings.warn(msg, category=DeprecationWarning)\n",
      "/home/ubuntu/anaconda2/lib/python2.7/site-packages/sklearn/utils/__init__.py:93: DeprecationWarning: Function transform is deprecated; Support to use estimators as feature selectors will be removed in version 0.19. Use SelectFromModel instead.\n",
      "  warnings.warn(msg, category=DeprecationWarning)\n",
      "/home/ubuntu/anaconda2/lib/python2.7/site-packages/sklearn/utils/__init__.py:93: DeprecationWarning: Function transform is deprecated; Support to use estimators as feature selectors will be removed in version 0.19. Use SelectFromModel instead.\n",
      "  warnings.warn(msg, category=DeprecationWarning)\n",
      "/home/ubuntu/anaconda2/lib/python2.7/site-packages/sklearn/utils/__init__.py:93: DeprecationWarning: Function transform is deprecated; Support to use estimators as feature selectors will be removed in version 0.19. Use SelectFromModel instead.\n",
      "  warnings.warn(msg, category=DeprecationWarning)\n",
      "/home/ubuntu/anaconda2/lib/python2.7/site-packages/sklearn/utils/__init__.py:93: DeprecationWarning: Function transform is deprecated; Support to use estimators as feature selectors will be removed in version 0.19. Use SelectFromModel instead.\n",
      "  warnings.warn(msg, category=DeprecationWarning)\n",
      "/home/ubuntu/anaconda2/lib/python2.7/site-packages/sklearn/utils/__init__.py:93: DeprecationWarning: Function transform is deprecated; Support to use estimators as feature selectors will be removed in version 0.19. Use SelectFromModel instead.\n",
      "  warnings.warn(msg, category=DeprecationWarning)\n",
      "/home/ubuntu/anaconda2/lib/python2.7/site-packages/sklearn/utils/__init__.py:93: DeprecationWarning: Function transform is deprecated; Support to use estimators as feature selectors will be removed in version 0.19. Use SelectFromModel instead.\n",
      "  warnings.warn(msg, category=DeprecationWarning)\n",
      "/home/ubuntu/anaconda2/lib/python2.7/site-packages/sklearn/utils/__init__.py:93: DeprecationWarning: Function transform is deprecated; Support to use estimators as feature selectors will be removed in version 0.19. Use SelectFromModel instead.\n",
      "  warnings.warn(msg, category=DeprecationWarning)\n",
      "/home/ubuntu/anaconda2/lib/python2.7/site-packages/sklearn/utils/__init__.py:93: DeprecationWarning: Function transform is deprecated; Support to use estimators as feature selectors will be removed in version 0.19. Use SelectFromModel instead.\n",
      "  warnings.warn(msg, category=DeprecationWarning)\n",
      "/home/ubuntu/anaconda2/lib/python2.7/site-packages/sklearn/utils/__init__.py:93: DeprecationWarning: Function transform is deprecated; Support to use estimators as feature selectors will be removed in version 0.19. Use SelectFromModel instead.\n",
      "  warnings.warn(msg, category=DeprecationWarning)\n",
      "/home/ubuntu/anaconda2/lib/python2.7/site-packages/sklearn/utils/__init__.py:93: DeprecationWarning: Function transform is deprecated; Support to use estimators as feature selectors will be removed in version 0.19. Use SelectFromModel instead.\n",
      "  warnings.warn(msg, category=DeprecationWarning)\n",
      "/home/ubuntu/anaconda2/lib/python2.7/site-packages/sklearn/utils/__init__.py:93: DeprecationWarning: Function transform is deprecated; Support to use estimators as feature selectors will be removed in version 0.19. Use SelectFromModel instead.\n",
      "  warnings.warn(msg, category=DeprecationWarning)\n",
      "/home/ubuntu/anaconda2/lib/python2.7/site-packages/sklearn/utils/__init__.py:93: DeprecationWarning: Function transform is deprecated; Support to use estimators as feature selectors will be removed in version 0.19. Use SelectFromModel instead.\n",
      "  warnings.warn(msg, category=DeprecationWarning)\n",
      "/home/ubuntu/anaconda2/lib/python2.7/site-packages/sklearn/utils/__init__.py:93: DeprecationWarning: Function transform is deprecated; Support to use estimators as feature selectors will be removed in version 0.19. Use SelectFromModel instead.\n",
      "  warnings.warn(msg, category=DeprecationWarning)\n",
      "/home/ubuntu/anaconda2/lib/python2.7/site-packages/sklearn/utils/__init__.py:93: DeprecationWarning: Function transform is deprecated; Support to use estimators as feature selectors will be removed in version 0.19. Use SelectFromModel instead.\n",
      "  warnings.warn(msg, category=DeprecationWarning)\n",
      "/home/ubuntu/anaconda2/lib/python2.7/site-packages/sklearn/utils/__init__.py:93: DeprecationWarning: Function transform is deprecated; Support to use estimators as feature selectors will be removed in version 0.19. Use SelectFromModel instead.\n",
      "  warnings.warn(msg, category=DeprecationWarning)\n",
      "/home/ubuntu/anaconda2/lib/python2.7/site-packages/sklearn/utils/__init__.py:93: DeprecationWarning: Function transform is deprecated; Support to use estimators as feature selectors will be removed in version 0.19. Use SelectFromModel instead.\n",
      "  warnings.warn(msg, category=DeprecationWarning)\n",
      "/home/ubuntu/anaconda2/lib/python2.7/site-packages/sklearn/utils/__init__.py:93: DeprecationWarning: Function transform is deprecated; Support to use estimators as feature selectors will be removed in version 0.19. Use SelectFromModel instead.\n",
      "  warnings.warn(msg, category=DeprecationWarning)\n",
      "/home/ubuntu/anaconda2/lib/python2.7/site-packages/sklearn/utils/__init__.py:93: DeprecationWarning: Function transform is deprecated; Support to use estimators as feature selectors will be removed in version 0.19. Use SelectFromModel instead.\n",
      "  warnings.warn(msg, category=DeprecationWarning)\n",
      "/home/ubuntu/anaconda2/lib/python2.7/site-packages/sklearn/utils/__init__.py:93: DeprecationWarning: Function transform is deprecated; Support to use estimators as feature selectors will be removed in version 0.19. Use SelectFromModel instead.\n",
      "  warnings.warn(msg, category=DeprecationWarning)\n",
      "/home/ubuntu/anaconda2/lib/python2.7/site-packages/sklearn/utils/__init__.py:93: DeprecationWarning: Function transform is deprecated; Support to use estimators as feature selectors will be removed in version 0.19. Use SelectFromModel instead.\n",
      "  warnings.warn(msg, category=DeprecationWarning)\n",
      "/home/ubuntu/anaconda2/lib/python2.7/site-packages/sklearn/utils/__init__.py:93: DeprecationWarning: Function transform is deprecated; Support to use estimators as feature selectors will be removed in version 0.19. Use SelectFromModel instead.\n",
      "  warnings.warn(msg, category=DeprecationWarning)\n",
      "/home/ubuntu/anaconda2/lib/python2.7/site-packages/sklearn/utils/__init__.py:93: DeprecationWarning: Function transform is deprecated; Support to use estimators as feature selectors will be removed in version 0.19. Use SelectFromModel instead.\n",
      "  warnings.warn(msg, category=DeprecationWarning)\n",
      "/home/ubuntu/anaconda2/lib/python2.7/site-packages/sklearn/utils/__init__.py:93: DeprecationWarning: Function transform is deprecated; Support to use estimators as feature selectors will be removed in version 0.19. Use SelectFromModel instead.\n",
      "  warnings.warn(msg, category=DeprecationWarning)\n"
     ]
    }
   ],
   "source": [
    "import sklearn.ensemble  \n",
    "RFs = []\n",
    "i = 100000\n",
    "while (i < len(X_int)): \n",
    "    RF = sklearn.ensemble.RandomForestClassifier(n_estimators=200, max_depth=30, n_jobs=-1)\n",
    "    X_new = RF.fit_transform(X_sparse_matrix[:i], Y[:i])\n",
    "    RFs.append(RF)\n",
    "    i+=20000"
   ]
  },
  {
   "cell_type": "code",
   "execution_count": 68,
   "metadata": {
    "collapsed": false
   },
   "outputs": [],
   "source": [
    "import sklearn.ensemble  \n",
    "RF = sklearn.ensemble.RandomForestClassifier(n_estimators=400, max_depth=100, n_jobs=-1)"
   ]
  },
  {
   "cell_type": "code",
   "execution_count": 69,
   "metadata": {
    "collapsed": false
   },
   "outputs": [
    {
     "name": "stderr",
     "output_type": "stream",
     "text": [
      "/home/ubuntu/anaconda2/lib/python2.7/site-packages/sklearn/utils/__init__.py:93: DeprecationWarning: Function transform is deprecated; Support to use estimators as feature selectors will be removed in version 0.19. Use SelectFromModel instead.\n",
      "  warnings.warn(msg, category=DeprecationWarning)\n"
     ]
    },
    {
     "data": {
      "text/plain": [
       "<200000x13396 sparse matrix of type '<type 'numpy.float64'>'\n",
       "\twith 4983979 stored elements in Compressed Sparse Column format>"
      ]
     },
     "execution_count": 69,
     "metadata": {},
     "output_type": "execute_result"
    }
   ],
   "source": [
    "RF.fit_transform(enc.transform(X_int[:200000]), Y[:200000])"
   ]
  },
  {
   "cell_type": "code",
   "execution_count": 70,
   "metadata": {
    "collapsed": false
   },
   "outputs": [
    {
     "data": {
      "text/plain": [
       "['./DiplomaDataPerson_RF400_100.joblib.pkl']"
      ]
     },
     "execution_count": 70,
     "metadata": {},
     "output_type": "execute_result"
    }
   ],
   "source": [
    "filename = './DiplomaDataPerson_RF400_100.joblib.pkl'\n",
    "joblib.dump(RF, filename, compress=3)"
   ]
  },
  {
   "cell_type": "code",
   "execution_count": 6,
   "metadata": {
    "collapsed": false
   },
   "outputs": [],
   "source": [
    "filename = './DiplomaDataPerson_RFs100_30.joblib.pkl'\n",
    "RFs = joblib.load(filename)"
   ]
  },
  {
   "cell_type": "code",
   "execution_count": 61,
   "metadata": {
    "collapsed": false
   },
   "outputs": [
    {
     "name": "stdout",
     "output_type": "stream",
     "text": [
      "100000\n",
      "0.999999997866\n",
      "0.292812499817\n",
      "0.452985219539\n",
      "113150 0 46850 0\n",
      "120000\n",
      "0.999999997866\n",
      "0.293248707269\n",
      "0.453507021199\n",
      "112912 0 46850 238\n",
      "140000\n",
      "0.999487724654\n",
      "0.298023191979\n",
      "0.459141414951\n",
      "110296 24 46826 2854\n",
      "160000\n",
      "0.996584843124\n",
      "0.320939791777\n",
      "0.485522166784\n",
      "98789 160 46690 14361\n",
      "180000\n",
      "0.965955174032\n",
      "0.395862490906\n",
      "0.561580897446\n",
      "69065 1595 45255 44085\n",
      "200000\n",
      "0.65024546286\n",
      "0.627735420095\n",
      "0.638792148299\n",
      "18066 16386 30464 95084\n",
      "220000\n",
      "0.256328708097\n",
      "0.727201158246\n",
      "0.379048000161\n",
      "4505 34841 12009 108645\n",
      "240000\n",
      "0.149946637887\n",
      "0.836807613618\n",
      "0.254321631374\n",
      "1370 39825 7025 111780\n",
      "260000\n",
      "0.0261259337756\n",
      "0.838356106962\n",
      "0.050672732492\n",
      "236 45626 1224 112914\n",
      "280000\n",
      "0.0108858057398\n",
      "0.868824383505\n",
      "0.0215022003869\n",
      "77 46340 510 113073\n",
      "300000\n",
      "0.0086659551576\n",
      "0.837113229461\n",
      "0.0171543234512\n",
      "79 46444 406 113071\n",
      "320000\n",
      "0.000875133402614\n",
      "0.931816064054\n",
      "0.00174862436257\n",
      "3 46809 41 113147\n",
      "340000\n",
      "0.0\n",
      "0.0\n",
      "0.0\n",
      "0 46850 0 113150\n",
      "360000\n",
      "2.13447171369e-05\n",
      "0.999900009999\n",
      "4.26885187391e-05\n",
      "0 46849 1 113150\n"
     ]
    }
   ],
   "source": [
    "random.shuffle(X__int[46849:])\n",
    "for i, rf in enumerate(RFs):\n",
    "    if (i > 13):\n",
    "        break\n",
    "    print 100000 + i*20000\n",
    "    Y_test_results = rf.predict_proba(enc.transform(X__int[:160000]))\n",
    "    metrics(Y_test_results, 100000 + i*20000)"
   ]
  },
  {
   "cell_type": "code",
   "execution_count": null,
   "metadata": {
    "collapsed": false
   },
   "outputs": [],
   "source": [
    "filename = './DiplomaDataPerson_RF100_200000_30.joblib.pkl'\n",
    "joblib.dump(RF, filename, compress=3)"
   ]
  },
  {
   "cell_type": "code",
   "execution_count": 67,
   "metadata": {
    "collapsed": false
   },
   "outputs": [
    {
     "name": "stdout",
     "output_type": "stream",
     "text": [
      "0.843970115595\n",
      "0.774019260876\n",
      "0.80748253876\n",
      "11544 7310 39540 41606\n"
     ]
    }
   ],
   "source": [
    "Y_test_results = RF.predict_proba(enc.transform(X__int[:100000]))\n",
    "metrics(Y_test_results, 200000)"
   ]
  },
  {
   "cell_type": "code",
   "execution_count": 211,
   "metadata": {
    "collapsed": false
   },
   "outputs": [
    {
     "name": "stdout",
     "output_type": "stream",
     "text": [
      "[[ 0.51005765  0.48994235]\n",
      " [ 0.4980023   0.5019977 ]\n",
      " [ 0.51005765  0.48994235]\n",
      " [ 0.50786131  0.49213869]\n",
      " [ 0.50295742  0.49704258]\n",
      " [ 0.51005765  0.48994235]\n",
      " [ 0.51005765  0.48994235]\n",
      " [ 0.49935177  0.50064823]\n",
      " [ 0.51005765  0.48994235]\n",
      " [ 0.51005765  0.48994235]]\n",
      "Branislav\n"
     ]
    }
   ],
   "source": [
    "print Y_test_result[10:20]\n",
    "print X_test[18][1]"
   ]
  },
  {
   "cell_type": "code",
   "execution_count": 63,
   "metadata": {
    "collapsed": false
   },
   "outputs": [
    {
     "ename": "NameError",
     "evalue": "name 'Y_test_result' is not defined",
     "output_type": "error",
     "traceback": [
      "\u001b[1;31m---------------------------------------------------------------------------\u001b[0m",
      "\u001b[1;31mNameError\u001b[0m                                 Traceback (most recent call last)",
      "\u001b[1;32m<ipython-input-63-e3f42e6c0912>\u001b[0m in \u001b[0;36m<module>\u001b[1;34m()\u001b[0m\n\u001b[1;32m----> 1\u001b[1;33m \u001b[0mmetrics\u001b[0m\u001b[1;33m(\u001b[0m\u001b[0mY_test_result\u001b[0m\u001b[1;33m)\u001b[0m\u001b[1;33m\u001b[0m\u001b[0m\n\u001b[0m",
      "\u001b[1;31mNameError\u001b[0m: name 'Y_test_result' is not defined"
     ]
    }
   ],
   "source": [
    "metrics(Y_test_result)"
   ]
  },
  {
   "cell_type": "code",
   "execution_count": 39,
   "metadata": {
    "collapsed": true
   },
   "outputs": [],
   "source": [
    "recall_set = dict()\n",
    "presision_set = dict()\n",
    "F_measure_set = dict()"
   ]
  },
  {
   "cell_type": "code",
   "execution_count": 43,
   "metadata": {
    "collapsed": true
   },
   "outputs": [],
   "source": [
    "def metrics(Y_test_result, length):\n",
    "    f_n = 0\n",
    "    f_p = 0\n",
    "    t_n=0\n",
    "    t_p=0\n",
    "    for i, y in enumerate(Y_test_result):\n",
    "        y_str = 'No'\n",
    "        if y[1]>0.5:\n",
    "            y_str = 'Person'\n",
    "        if y_str != Y_[i]:\n",
    "            if y_str=='No':\n",
    "                f_n+=1\n",
    "                #if random.uniform(0, 1)>0.75:\n",
    "                   # print X_test[i][1]\n",
    "                #print X[10000+i]\n",
    "            else:\n",
    "                f_p+=1 \n",
    "                #if random.uniform(0, 1)>0.75:\n",
    "                    #print X_[i][1]\n",
    "                #print X_[10000+i]\n",
    "        elif y_str =='No':\n",
    "            t_n+=1\n",
    "        else:\n",
    "            t_p+=1\n",
    "            #print X_test[i][1]\n",
    "    recall = t_p*1./(t_p+f_n+0.0001)\n",
    "    presision = t_p*1./(t_p+f_p+0.0001)\n",
    "    print recall\n",
    "    print presision\n",
    "    F_measure = 2*presision*recall/(presision+recall+0.0000001)\n",
    "    print F_measure \n",
    "    print f_p, f_n, t_p, t_n  \n",
    "    recall_set[length] = recall\n",
    "    presision_set[length] = presision\n",
    "    F_measure_set[length] = F_measure"
   ]
  },
  {
   "cell_type": "code",
   "execution_count": null,
   "metadata": {
    "collapsed": false
   },
   "outputs": [],
   "source": []
  },
  {
   "cell_type": "code",
   "execution_count": 17,
   "metadata": {
    "collapsed": true
   },
   "outputs": [],
   "source": [
    "from matplotlib import rc\n",
    " \n",
    "font = {'family': 'Droid Sans',\n",
    "        'weight': 'normal'}\n",
    "rc('font', **font)"
   ]
  },
  {
   "cell_type": "code",
   "execution_count": 62,
   "metadata": {
    "collapsed": false
   },
   "outputs": [
    {
     "name": "stdout",
     "output_type": "stream",
     "text": [
      "100000\n",
      "120000\n",
      "140000\n",
      "160000\n",
      "180000\n",
      "200000\n",
      "220000\n",
      "240000\n",
      "260000\n",
      "280000\n",
      "300000\n",
      "320000\n"
     ]
    },
    {
     "data": {
      "image/png": "[encoded data removed]",
      "text/plain": [
       "<matplotlib.figure.Figure at 0x7fd9ed052fd0>"
      ]
     },
     "metadata": {},
     "output_type": "display_data"
    }
   ],
   "source": [
    "# -*- coding: utf-8 -*-\n",
    "# Преамбула\n",
    "%matplotlib inline\n",
    "\n",
    "import os\n",
    "import matplotlib.pyplot as plt\n",
    "\n",
    "def save(name=''):\n",
    "    plt.savefig('./pictures/'+ name, fmt='png')\n",
    "    #plt.close()\n",
    "\n",
    "import numpy as np\n",
    "l=['Recall' , 'Presision' , 'F-measure']\n",
    "\n",
    "# Пример функции с объединением в кортеж *args\n",
    "def f_sums(*args):\n",
    "\n",
    "    list1 = []\n",
    "    for arg in args:\n",
    "        a = 0\n",
    "        for i in arg:\n",
    "            a += i\n",
    "        list1.append(a)\n",
    "\n",
    "    return list1\n",
    "\n",
    "\n",
    "# Пример функции с объединением и в кортеж args и в словарь **kwargs\n",
    "def f_plot(*args, **kwargs):\n",
    "\n",
    "    xlist = []\n",
    "    ylist = []\n",
    "    for i, arg in enumerate(args):\n",
    "        if(i % 2 == 0):\n",
    "            xlist.append(arg)\n",
    "        else:\n",
    "            ylist.append(arg) \n",
    "    \n",
    "    colors = kwargs.pop('colors', 'k')\n",
    "    linewidth = kwargs.pop('linewidth', 1.)\n",
    "    \n",
    "    fig = plt.figure()\n",
    "    ax = fig.add_subplot(111)\n",
    "    i = 0\n",
    "    for x, y, color in zip(xlist, ylist, colors):\n",
    "        i += 1\n",
    "        ax.plot(x, y, color=color, linewidth=linewidth, label=l[i-1])\n",
    "    \n",
    "    ax.grid(True)\n",
    "    #ax.legend()\n",
    "    plt.legend(loc=1,prop={'size':8})\n",
    "    #plt.title(u'Зависимость метрик качества\\n от доли negative-примеров в обучающей выборке\\n')\n",
    "    plt.title(u'За\\n')\n",
    "    plt.xlabel(u'\\n (RandomForest, n_estimators=100, max_depth=30, len(X_test)=160000)')\n",
    "    #save(u'1')\n",
    "    \n",
    "\n",
    "x = []\n",
    "y1 =[]\n",
    "y2 =[]\n",
    "y3 =[]\n",
    "\n",
    "keys = F_measure_set.keys()\n",
    "keys.sort()\n",
    "for x_ in keys[:12]:\n",
    "    print x_\n",
    "    x.append(x_)\n",
    "    y1.append(recall_set[x_])\n",
    "    y2.append(presision_set[x_])\n",
    "    y3.append(F_measure_set[x_])\n",
    "filename = './DiplomaDataPerson_GrX10T.pkl'\n",
    "joblib.dump(x, filename,compress=3)\n",
    "filename = './DiplomaDataPerson_GrRec10T.pkl'\n",
    "joblib.dump(y1, filename,compress=3)\n",
    "filename = './DiplomaDataPerson_GrPre10T.pkl'\n",
    "joblib.dump(y2, filename,compress=3)\n",
    "filename = './DiplomaDataPerson_GrF10T.pkl'\n",
    "joblib.dump(y3, filename,compress=3)\n",
    "    \n",
    "f_plot(x , y1, x, y2, x , y3, colors=['blue', 'green', 'red'], linewidth=2.)"
   ]
  },
  {
   "cell_type": "code",
   "execution_count": null,
   "metadata": {
    "collapsed": true
   },
   "outputs": [],
   "source": []
  }
 ],
 "metadata": {
  "kernelspec": {
   "display_name": "Python [Root]",
   "language": "python",
   "name": "Python [Root]"
  },
  "language_info": {
   "codemirror_mode": {
    "name": "ipython",
    "version": 2
   },
   "file_extension": ".py",
   "mimetype": "text/x-python",
   "name": "python",
   "nbconvert_exporter": "python",
   "pygments_lexer": "ipython2",
   "version": "2.7.11"
  }
 },
 "nbformat": 4,
 "nbformat_minor": 0
}
